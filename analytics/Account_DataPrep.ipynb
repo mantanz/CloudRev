{
  "cells": [
    {
      "cell_type": "markdown",
      "metadata": {
        "id": "lcdDOOF06sMk"
      },
      "source": [
        "## Data loading\n",
        "\n",
        "### Subtask:\n",
        "Load the three CSV files into pandas DataFrames.\n"
      ]
    },
    {
      "cell_type": "markdown",
      "metadata": {
        "id": "ab3TGu_36scV"
      },
      "source": [
        "**Reasoning**:\n",
        "Load the three CSV files into pandas DataFrames, ensuring the `account_id` column is treated as a string.\n",
        "\n"
      ]
    },
    {
      "cell_type": "code",
      "execution_count": 51,
      "metadata": {
        "id": "Sc_g7lAr6ssE"
      },
      "outputs": [],
      "source": [
        "import pandas as pd\n",
        "\n",
        "df1 = pd.read_csv('act1.csv', dtype={'account_id': str})\n",
        "df2 = pd.read_csv('act2.csv', dtype={'account_id': str})\n",
        "df3 = pd.read_csv('act3.csv', dtype={'account_id': str})\n",
        "df4 = pd.read_csv('act4.csv', dtype={'account_id': str})"
      ]
    },
    {
      "cell_type": "markdown",
      "metadata": {
        "id": "brLNcGxP6w-q"
      },
      "source": [
        "## Data preparation\n",
        "\n",
        "### Subtask:\n",
        "Prepare the dataframes for merging.\n"
      ]
    },
    {
      "cell_type": "markdown",
      "metadata": {
        "id": "1tS4QblH6x5g"
      },
      "source": [
        "**Reasoning**:\n",
        "Standardize column names to lowercase and ensure the \"account_id\" column exists and has a consistent string data type across all three dataframes. Also, handle other relevant columns for merging as per the task description.\n",
        "\n"
      ]
    },
    {
      "cell_type": "code",
      "execution_count": 52,
      "metadata": {
        "colab": {
          "base_uri": "https://localhost:8080/",
          "height": 71
        },
        "id": "VRXwUCA-6yJN",
        "outputId": "0c53e380-bce2-46fb-ee91-c403a8a7bdfe"
      },
      "outputs": [
        {
          "data": {
            "text/plain": [
              "Index(['account_id', 'account_name', 'owner', 'entity'], dtype='object')"
            ]
          },
          "metadata": {},
          "output_type": "display_data"
        },
        {
          "data": {
            "text/plain": [
              "Index(['account_id', 'account_name'], dtype='object')"
            ]
          },
          "metadata": {},
          "output_type": "display_data"
        },
        {
          "data": {
            "text/plain": [
              "Index(['account_id', 'account_name', 'owner'], dtype='object')"
            ]
          },
          "metadata": {},
          "output_type": "display_data"
        },
        {
          "data": {
            "text/plain": [
              "Index(['account_id', 'account_name'], dtype='object')"
            ]
          },
          "metadata": {},
          "output_type": "display_data"
        }
      ],
      "source": [
        "import pandas as pd\n",
        "\n",
        "# Standardize column names to lowercase\n",
        "df1.columns = df1.columns.str.lower()\n",
        "df2.columns = df2.columns.str.lower()\n",
        "df3.columns = df3.columns.str.lower()\n",
        "df4.columns = df4.columns.str.lower()\n",
        "\n",
        "# Ensure 'account_id' is string type in all dataframes\n",
        "for df in [df1, df2, df3, df4]:\n",
        "    if df['account_id'].dtype != 'object':\n",
        "        df['account_id'] = df['account_id'].astype(str)\n",
        "\n",
        "# Display the column names of each dataframe to confirm changes\n",
        "display(df1.columns)\n",
        "display(df2.columns)\n",
        "display(df3.columns)\n",
        "display(df4.columns)\n"
      ]
    },
    {
      "cell_type": "markdown",
      "metadata": {
        "id": "IYL_cVBO63bu"
      },
      "source": [
        "## Data wrangling\n",
        "\n",
        "### Subtask:\n",
        "Merge the four dataframes (df1, df2, df3, df4) into a single dataframe.\n"
      ]
    },
    {
      "cell_type": "markdown",
      "metadata": {
        "id": "pQb9QCwg63rd"
      },
      "source": [
        "**Reasoning**:\n",
        "Merge df1 and df2, then merge the result with df3 and df4 , and select the required columns.\n",
        "\n"
      ]
    },
    {
      "cell_type": "code",
      "execution_count": 53,
      "metadata": {
        "colab": {
          "base_uri": "https://localhost:8080/",
          "height": 424
        },
        "id": "jo9Y-Fyz637L",
        "outputId": "07d49e16-3b59-4e03-f18b-3167cdae3ffc"
      },
      "outputs": [
        {
          "data": {
            "text/html": [
              "<div>\n",
              "<style scoped>\n",
              "    .dataframe tbody tr th:only-of-type {\n",
              "        vertical-align: middle;\n",
              "    }\n",
              "\n",
              "    .dataframe tbody tr th {\n",
              "        vertical-align: top;\n",
              "    }\n",
              "\n",
              "    .dataframe thead th {\n",
              "        text-align: right;\n",
              "    }\n",
              "</style>\n",
              "<table border=\"1\" class=\"dataframe\">\n",
              "  <thead>\n",
              "    <tr style=\"text-align: right;\">\n",
              "      <th></th>\n",
              "      <th>account_id</th>\n",
              "      <th>account_name</th>\n",
              "      <th>owner</th>\n",
              "      <th>entity</th>\n",
              "    </tr>\n",
              "  </thead>\n",
              "  <tbody>\n",
              "    <tr>\n",
              "      <th>0</th>\n",
              "      <td>Premium Support</td>\n",
              "      <td>Premium Support</td>\n",
              "      <td>Parakh Agarwal</td>\n",
              "      <td>OCL</td>\n",
              "    </tr>\n",
              "    <tr>\n",
              "      <th>1</th>\n",
              "      <td>002637409966</td>\n",
              "      <td>user-management-prod</td>\n",
              "      <td>Shrey Agarwal</td>\n",
              "      <td>OCL</td>\n",
              "    </tr>\n",
              "    <tr>\n",
              "      <th>2</th>\n",
              "      <td>003079193758</td>\n",
              "      <td>IOT Prod</td>\n",
              "      <td>Sunil Bansal</td>\n",
              "      <td>OCL</td>\n",
              "    </tr>\n",
              "    <tr>\n",
              "      <th>3</th>\n",
              "      <td>015680176265</td>\n",
              "      <td>PPSL Payer</td>\n",
              "      <td>Parakh Agarwal</td>\n",
              "      <td>PPSL</td>\n",
              "    </tr>\n",
              "    <tr>\n",
              "      <th>4</th>\n",
              "      <td>017820698743</td>\n",
              "      <td>risk-devops-tools</td>\n",
              "      <td>Bhaskar Gopalan</td>\n",
              "      <td>OCL</td>\n",
              "    </tr>\n",
              "    <tr>\n",
              "      <th>...</th>\n",
              "      <td>...</td>\n",
              "      <td>...</td>\n",
              "      <td>...</td>\n",
              "      <td>...</td>\n",
              "    </tr>\n",
              "    <tr>\n",
              "      <th>323</th>\n",
              "      <td>NaN</td>\n",
              "      <td>International Expansion</td>\n",
              "      <td>Sunil Bansal</td>\n",
              "      <td>OCL</td>\n",
              "    </tr>\n",
              "    <tr>\n",
              "      <th>324</th>\n",
              "      <td>NaN</td>\n",
              "      <td>International Expansion</td>\n",
              "      <td>Sunil Bansal</td>\n",
              "      <td>OCL</td>\n",
              "    </tr>\n",
              "    <tr>\n",
              "      <th>325</th>\n",
              "      <td>NaN</td>\n",
              "      <td>International Expansion</td>\n",
              "      <td>Sunil Bansal</td>\n",
              "      <td>OCL</td>\n",
              "    </tr>\n",
              "    <tr>\n",
              "      <th>326</th>\n",
              "      <td>NaN</td>\n",
              "      <td>International Expansion</td>\n",
              "      <td>Sunil Bansal</td>\n",
              "      <td>OCL</td>\n",
              "    </tr>\n",
              "    <tr>\n",
              "      <th>327</th>\n",
              "      <td>NaN</td>\n",
              "      <td>International Expansion</td>\n",
              "      <td>Sunil Bansal</td>\n",
              "      <td>OCL</td>\n",
              "    </tr>\n",
              "  </tbody>\n",
              "</table>\n",
              "<p>328 rows × 4 columns</p>\n",
              "</div>"
            ],
            "text/plain": [
              "            account_id             account_name            owner  entity\n",
              "0     Premium Support           Premium Support   Parakh Agarwal    OCL \n",
              "1         002637409966     user-management-prod    Shrey Agarwal    OCL \n",
              "2         003079193758                 IOT Prod     Sunil Bansal    OCL \n",
              "3         015680176265               PPSL Payer   Parakh Agarwal   PPSL \n",
              "4         017820698743        risk-devops-tools  Bhaskar Gopalan     OCL\n",
              "..                 ...                      ...              ...     ...\n",
              "323                NaN  International Expansion     Sunil Bansal    OCL \n",
              "324                NaN  International Expansion     Sunil Bansal    OCL \n",
              "325                NaN  International Expansion     Sunil Bansal    OCL \n",
              "326                NaN  International Expansion     Sunil Bansal    OCL \n",
              "327                NaN  International Expansion     Sunil Bansal    OCL \n",
              "\n",
              "[328 rows x 4 columns]"
            ]
          },
          "metadata": {},
          "output_type": "display_data"
        }
      ],
      "source": [
        "# Merge df2 into df1\n",
        "merged_df = pd.merge(df1, df2, on='account_id', how='outer', suffixes=('_df1', '_df2'))\n",
        "merged_df['account_name'] = merged_df['account_name_df1'].combine_first(merged_df['account_name_df2'])\n",
        "merged_df = merged_df[['account_id', 'account_name', 'owner', 'entity']]\n",
        "\n",
        "# Merge df3 into merged_df\n",
        "merged_df = pd.merge(merged_df, df3, on='account_id', how='outer', suffixes=('_merged', '_df3'))\n",
        "merged_df['account_name'] = merged_df['account_name_merged'].combine_first(merged_df['account_name_df3'])\n",
        "merged_df['owner'] = merged_df['owner_merged'].combine_first(merged_df['owner_df3'])\n",
        "merged_df = merged_df[['account_id', 'account_name', 'owner', 'entity']]\n",
        "\n",
        "# Merge df4 into merged_df\n",
        "merged_df = pd.merge(merged_df, df4, on='account_id', how='outer', suffixes=('_merged', '_df4'))\n",
        "merged_df['account_name'] = merged_df['account_name_merged'].combine_first(merged_df['account_name_df4'])\n",
        "merged_df = merged_df[['account_id', 'account_name', 'owner', 'entity']]\n",
        "\n",
        "# Display the merged dataframe\n",
        "display(merged_df)\n",
        "\n"
      ]
    },
    {
      "cell_type": "code",
      "execution_count": 54,
      "metadata": {},
      "outputs": [
        {
          "name": "stdout",
          "output_type": "stream",
          "text": [
            "       account_id     account_name owner entity\n",
            "137  521026337032  ppblpg2-nonprod   NaN    NaN\n"
          ]
        }
      ],
      "source": [
        "filtered_df = merged_df[merged_df['account_id'] == '521026337032']\n",
        "\n",
        "# Display the result\n",
        "print(filtered_df)"
      ]
    },
    {
      "cell_type": "markdown",
      "metadata": {
        "id": "BCLCqeGT69Qt"
      },
      "source": [
        "## Data cleaning\n",
        "\n",
        "### Subtask:\n",
        "Clean the merged dataframe by handling missing values and removing duplicate rows.\n"
      ]
    },
    {
      "cell_type": "markdown",
      "metadata": {
        "id": "4KTfO_4p69ga"
      },
      "source": [
        "**Reasoning**:\n",
        "Remove duplicate rows based on \"account_id\", keeping the first occurrence.\n",
        "\n"
      ]
    },
    {
      "cell_type": "code",
      "execution_count": 55,
      "metadata": {
        "colab": {
          "base_uri": "https://localhost:8080/",
          "height": 424
        },
        "id": "STW5vxRb69wK",
        "outputId": "9afeca6f-7a59-477b-ec6e-a0f2bc7c6451"
      },
      "outputs": [
        {
          "data": {
            "text/html": [
              "<div>\n",
              "<style scoped>\n",
              "    .dataframe tbody tr th:only-of-type {\n",
              "        vertical-align: middle;\n",
              "    }\n",
              "\n",
              "    .dataframe tbody tr th {\n",
              "        vertical-align: top;\n",
              "    }\n",
              "\n",
              "    .dataframe thead th {\n",
              "        text-align: right;\n",
              "    }\n",
              "</style>\n",
              "<table border=\"1\" class=\"dataframe\">\n",
              "  <thead>\n",
              "    <tr style=\"text-align: right;\">\n",
              "      <th></th>\n",
              "      <th>account_id</th>\n",
              "      <th>account_name</th>\n",
              "      <th>owner</th>\n",
              "      <th>entity</th>\n",
              "    </tr>\n",
              "  </thead>\n",
              "  <tbody>\n",
              "    <tr>\n",
              "      <th>0</th>\n",
              "      <td>Premium Support</td>\n",
              "      <td>Premium Support</td>\n",
              "      <td>Parakh Agarwal</td>\n",
              "      <td>OCL</td>\n",
              "    </tr>\n",
              "    <tr>\n",
              "      <th>1</th>\n",
              "      <td>002637409966</td>\n",
              "      <td>user-management-prod</td>\n",
              "      <td>Shrey Agarwal</td>\n",
              "      <td>OCL</td>\n",
              "    </tr>\n",
              "    <tr>\n",
              "      <th>2</th>\n",
              "      <td>003079193758</td>\n",
              "      <td>IOT Prod</td>\n",
              "      <td>Sunil Bansal</td>\n",
              "      <td>OCL</td>\n",
              "    </tr>\n",
              "    <tr>\n",
              "      <th>3</th>\n",
              "      <td>015680176265</td>\n",
              "      <td>PPSL Payer</td>\n",
              "      <td>Parakh Agarwal</td>\n",
              "      <td>PPSL</td>\n",
              "    </tr>\n",
              "    <tr>\n",
              "      <th>4</th>\n",
              "      <td>017820698743</td>\n",
              "      <td>risk-devops-tools</td>\n",
              "      <td>Bhaskar Gopalan</td>\n",
              "      <td>OCL</td>\n",
              "    </tr>\n",
              "    <tr>\n",
              "      <th>...</th>\n",
              "      <td>...</td>\n",
              "      <td>...</td>\n",
              "      <td>...</td>\n",
              "      <td>...</td>\n",
              "    </tr>\n",
              "    <tr>\n",
              "      <th>288</th>\n",
              "      <td>Equity DR</td>\n",
              "      <td>Equity DR</td>\n",
              "      <td>NaN</td>\n",
              "      <td>NaN</td>\n",
              "    </tr>\n",
              "    <tr>\n",
              "      <th>289</th>\n",
              "      <td>New 1</td>\n",
              "      <td>&lt;Place Holder for NOS Account&gt;</td>\n",
              "      <td>NaN</td>\n",
              "      <td>NaN</td>\n",
              "    </tr>\n",
              "    <tr>\n",
              "      <th>290</th>\n",
              "      <td>New 2</td>\n",
              "      <td>&lt;Place Holder for PSPL Gratification Account&gt;</td>\n",
              "      <td>NaN</td>\n",
              "      <td>NaN</td>\n",
              "    </tr>\n",
              "    <tr>\n",
              "      <th>291</th>\n",
              "      <td>New 3</td>\n",
              "      <td>Confluent Kafka</td>\n",
              "      <td>Mukesh Meena</td>\n",
              "      <td>OCL</td>\n",
              "    </tr>\n",
              "    <tr>\n",
              "      <th>292</th>\n",
              "      <td>NaN</td>\n",
              "      <td>International Expansion</td>\n",
              "      <td>Shrey Agarwal</td>\n",
              "      <td>OCL</td>\n",
              "    </tr>\n",
              "  </tbody>\n",
              "</table>\n",
              "<p>289 rows × 4 columns</p>\n",
              "</div>"
            ],
            "text/plain": [
              "            account_id                                   account_name  \\\n",
              "0     Premium Support                                 Premium Support   \n",
              "1         002637409966                           user-management-prod   \n",
              "2         003079193758                                       IOT Prod   \n",
              "3         015680176265                                     PPSL Payer   \n",
              "4         017820698743                              risk-devops-tools   \n",
              "..                 ...                                            ...   \n",
              "288          Equity DR                                      Equity DR   \n",
              "289              New 1                 <Place Holder for NOS Account>   \n",
              "290              New 2  <Place Holder for PSPL Gratification Account>   \n",
              "291              New 3                                Confluent Kafka   \n",
              "292                NaN                        International Expansion   \n",
              "\n",
              "               owner  entity  \n",
              "0     Parakh Agarwal    OCL   \n",
              "1      Shrey Agarwal    OCL   \n",
              "2       Sunil Bansal    OCL   \n",
              "3     Parakh Agarwal   PPSL   \n",
              "4    Bhaskar Gopalan     OCL  \n",
              "..               ...     ...  \n",
              "288              NaN     NaN  \n",
              "289              NaN     NaN  \n",
              "290              NaN     NaN  \n",
              "291     Mukesh Meena     OCL  \n",
              "292    Shrey Agarwal    OCL   \n",
              "\n",
              "[289 rows x 4 columns]"
            ]
          },
          "metadata": {},
          "output_type": "display_data"
        }
      ],
      "source": [
        "# Remove duplicate rows based on 'account_id'\n",
        "merged_df = merged_df.drop_duplicates(subset='account_id', keep='first')\n",
        "\n",
        "# Display the cleaned dataframe\n",
        "display(merged_df)"
      ]
    },
    {
      "cell_type": "markdown",
      "metadata": {
        "id": "NX7cH1lc7CPI"
      },
      "source": [
        "## Data preparation\n",
        "\n",
        "### Subtask:\n",
        "Reorder the columns in the merged dataframe to match the specified order.\n"
      ]
    },
    {
      "cell_type": "markdown",
      "metadata": {
        "id": "iih5PipA7Ce4"
      },
      "source": [
        "**Reasoning**:\n",
        "Reorder the columns of the merged dataframe to match the specified order and display the columns to verify the change.\n",
        "\n"
      ]
    },
    {
      "cell_type": "code",
      "execution_count": 56,
      "metadata": {
        "colab": {
          "base_uri": "https://localhost:8080/",
          "height": 35
        },
        "id": "1HVPnXwN7Cuk",
        "outputId": "6e4588cf-2b80-4f01-f42e-2bdfce4cd332"
      },
      "outputs": [
        {
          "data": {
            "text/plain": [
              "Index(['account_id', 'account_name', 'owner', 'entity'], dtype='object')"
            ]
          },
          "metadata": {},
          "output_type": "display_data"
        }
      ],
      "source": [
        "# Reorder the columns\n",
        "merged_df = merged_df.reindex(columns=['account_id', 'account_name', 'owner', 'entity'])\n",
        "\n",
        "# Display the reordered columns\n",
        "display(merged_df.columns)"
      ]
    },
    {
      "cell_type": "markdown",
      "metadata": {
        "id": "grlzxe0P7Gyu"
      },
      "source": [
        "## Data loading\n",
        "\n",
        "### Subtask:\n",
        "Save the merged and cleaned dataframe `merged_df` to a new CSV file named \"combined_account_details.csv\".\n"
      ]
    },
    {
      "cell_type": "markdown",
      "metadata": {
        "id": "Ai2cZyxZ7Hyv"
      },
      "source": [
        "**Reasoning**:\n",
        "Save the merged dataframe `merged_df` to a CSV file named \"combined_account_details.csv\" without the index.\n",
        "\n"
      ]
    },
    {
      "cell_type": "code",
      "execution_count": 58,
      "metadata": {
        "id": "OLwhP0rz7ICc"
      },
      "outputs": [],
      "source": [
        "merged_df.to_csv('account_details.csv', index=False)"
      ]
    }
  ],
  "metadata": {
    "colab": {
      "provenance": []
    },
    "kernelspec": {
      "display_name": "Python 3",
      "name": "python3"
    },
    "language_info": {
      "codemirror_mode": {
        "name": "ipython",
        "version": 3
      },
      "file_extension": ".py",
      "mimetype": "text/x-python",
      "name": "python",
      "nbconvert_exporter": "python",
      "pygments_lexer": "ipython3",
      "version": "3.9.6"
    }
  },
  "nbformat": 4,
  "nbformat_minor": 0
}
